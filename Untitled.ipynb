{
 "cells": [
  {
   "cell_type": "code",
   "execution_count": 9,
   "id": "7c284744",
   "metadata": {
    "scrolled": true
   },
   "outputs": [
    {
     "name": "stdout",
     "output_type": "stream",
     "text": [
      "['Extra Rich Cleansing Milk']\n"
     ]
    }
   ],
   "source": [
    "import pandas as pd\n",
    "from sklearn.tree import DecisionTreeClassifier\n",
    "from sklearn.model_selection import train_test_split\n",
    "import pickle\n",
    "\n",
    "from sklearn import tree\n",
    "\n",
    "products = pd.read_csv('cosmetics.csv')\n",
    "X = products.drop(columns=['Ingredients', 'Label', 'Brand', 'Name'])\n",
    "y = products['Name']\n",
    "X_train, y_test, y_train, y_test = train_test_split(X, y, test_size=0.2)\n",
    "\n",
    "mode2l = DecisionTreeClassifier()\n",
    "mode2l.fit(X, y)\n",
    "filename = \"pridection.joblib\"\n",
    "pickle.dump(mode2l, open(filename, 'wb'))\n",
    "print(predictions)\n",
    "\n",
    "#price, rank, combi, dry, normal, oily, sensitive\n",
    "# joblib.dump(model, 'skin-recommender.joblib')\n",
    "\n"
   ]
  },
  {
   "cell_type": "code",
   "execution_count": null,
   "id": "0f5ce0ee",
   "metadata": {},
   "outputs": [],
   "source": []
  },
  {
   "cell_type": "code",
   "execution_count": null,
   "id": "ddf06751",
   "metadata": {},
   "outputs": [],
   "source": []
  },
  {
   "cell_type": "code",
   "execution_count": null,
   "id": "30a850a6",
   "metadata": {},
   "outputs": [],
   "source": []
  },
  {
   "cell_type": "code",
   "execution_count": null,
   "id": "3a2bbd8c",
   "metadata": {},
   "outputs": [],
   "source": []
  },
  {
   "cell_type": "code",
   "execution_count": null,
   "id": "f6bff608",
   "metadata": {},
   "outputs": [],
   "source": []
  }
 ],
 "metadata": {
  "kernelspec": {
   "display_name": "Python 3 (ipykernel)",
   "language": "python",
   "name": "python3"
  },
  "language_info": {
   "codemirror_mode": {
    "name": "ipython",
    "version": 3
   },
   "file_extension": ".py",
   "mimetype": "text/x-python",
   "name": "python",
   "nbconvert_exporter": "python",
   "pygments_lexer": "ipython3",
   "version": "3.9.13"
  }
 },
 "nbformat": 4,
 "nbformat_minor": 5
}

{
 "cells": [
  {
   "cell_type": "code",
   "execution_count": null,
   "id": "7a7d99b6",
   "metadata": {},
   "outputs": [],
   "source": [
    "from flask import Flask, request, jsonify\n",
    "import joblib\n",
    "import pandas as pd\n",
    "from sklearn.tree import DecisionTreeClassifier\n",
    "from sklearn.model_selection import train_test_split\n",
    "from sklearn import tree\n",
    "\n",
    "app = Flask(__name__)\n",
    "\n",
    "# Load the trained model\n",
    "model = joblib.load('pridection.joblib')\n",
    "\n",
    "@app.route('/recommend', methods=['POST'])\n",
    "def recommend_skincare_product():\n",
    "        print('testing')\n",
    "        skin_type = request.get_json()[\"skin_type\"] \n",
    "\n",
    "        recommendation = model.predict([skin_type])\n",
    "          # Return the recommendation as the API response\n",
    "        response = { \"recommendation\": recommendation[0] }\n",
    "        print(response)\n",
    "        return jsonify(response)\n",
    "\n",
    "#price, rank, combi, dry, normal, oily, sensitive\n",
    "if __name__ == '__main__':\n",
    "    app.run()"
   ]
  },
  {
   "cell_type": "code",
   "execution_count": null,
   "id": "18c0a20d",
   "metadata": {},
   "outputs": [],
   "source": []
  },
  {
   "cell_type": "code",
   "execution_count": null,
   "id": "e88fa511",
   "metadata": {},
   "outputs": [],
   "source": []
  },
  {
   "cell_type": "code",
   "execution_count": null,
   "id": "f780925b",
   "metadata": {},
   "outputs": [],
   "source": []
  }
 ],
 "metadata": {
  "kernelspec": {
   "display_name": "Python 3 (ipykernel)",
   "language": "python",
   "name": "python3"
  },
  "language_info": {
   "codemirror_mode": {
    "name": "ipython",
    "version": 3
   },
   "file_extension": ".py",
   "mimetype": "text/x-python",
   "name": "python",
   "nbconvert_exporter": "python",
   "pygments_lexer": "ipython3",
   "version": "3.9.13"
  }
 },
 "nbformat": 4,
 "nbformat_minor": 5
}

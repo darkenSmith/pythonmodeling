{
 "cells": [
  {
   "cell_type": "code",
   "execution_count": 11,
   "id": "7c284744",
   "metadata": {
    "scrolled": true
   },
   "outputs": [
    {
     "name": "stdout",
     "output_type": "stream",
     "text": [
      "         Label                Brand  \\\n",
      "579  Treatment       DRUNK ELEPHANT   \n",
      "580  Treatment         SUNDAY RILEY   \n",
      "581  Treatment         ESTÉE LAUDER   \n",
      "582  Treatment         OLEHENRIKSEN   \n",
      "583  Treatment              LANCÔME   \n",
      "..         ...                  ...   \n",
      "822  Treatment  DR. BRANDT SKINCARE   \n",
      "823  Treatment           OMOROVICZA   \n",
      "824  Treatment             CLINIQUE   \n",
      "825  Treatment         PERRICONE MD   \n",
      "826  Treatment             ALGENIST   \n",
      "\n",
      "                                                  Name  Price  Rank  \\\n",
      "579                                 C-Firma™ Day Serum     80   4.1   \n",
      "580        Good Genes All-In-One Lactic Acid Treatment    158   4.3   \n",
      "581  Advanced Night Repair Synchronized Recovery Co...     98   4.3   \n",
      "582                                       Truth Serum®     48   4.3   \n",
      "583      Advanced Génifique Youth Activating Serum Duo    178   2.0   \n",
      "..                                                 ...    ...   ...   \n",
      "822  Do Not Age with Dr. Brandt Transforming Pearl ...    152   4.3   \n",
      "823  Silver Skin Savior Salicylic/Glycolic Acid Tre...    125   5.0   \n",
      "824                  Acne Solutions Clearing Concealer     18   3.6   \n",
      "825          High Potency Classics: Face Firming Serum     99   4.1   \n",
      "826             ELEVATE Advanced Lift Contouring Cream     96   4.3   \n",
      "\n",
      "                                           Ingredients  Combination  Dry  \\\n",
      "579  Water, Ethoxydiglycol, Ascorbic Acid, Glycerin...            1    1   \n",
      "580  Opuntia Tuna Fruit (Prickly Pear) Extract, Aga...            1    1   \n",
      "581  Advanced Night Repr Sync Rec Cmp11 Division: E...            1    1   \n",
      "582  Water, Sodium Ascorbyl Phosphate, Calcium Asco...            1    1   \n",
      "583  Water, Bifida Ferment Lysate, Glycerin, Alcoho...            0    0   \n",
      "..                                                 ...          ...  ...   \n",
      "822  Water, Caprylic /Capric Triglyceride, Propaned...            0    0   \n",
      "823  Glycerin, Water, Glycolic Acid, Niacinamide, C...            0    0   \n",
      "824  Water , Butylene Glycol , Cetyl Esters , Stear...            0    0   \n",
      "825                    Visit the Perricone MD boutique            0    0   \n",
      "826  Water, Dimethicone, Dimethicone Crosspolymer, ...            1    1   \n",
      "\n",
      "     Normal  Oily  Sensitive  \n",
      "579       1     1          0  \n",
      "580       1     1          0  \n",
      "581       1     1          1  \n",
      "582       1     1          1  \n",
      "583       0     0          0  \n",
      "..      ...   ...        ...  \n",
      "822       0     0          0  \n",
      "823       0     0          0  \n",
      "824       0     0          0  \n",
      "825       0     0          0  \n",
      "826       1     1          1  \n",
      "\n",
      "[248 rows x 11 columns]\n",
      "['Premier Cru Serum']\n"
     ]
    },
    {
     "name": "stderr",
     "output_type": "stream",
     "text": [
      "/Users/alexs/opt/anaconda3/lib/python3.9/site-packages/sklearn/base.py:450: UserWarning: X does not have valid feature names, but DecisionTreeClassifier was fitted with feature names\n",
      "  warnings.warn(\n"
     ]
    }
   ],
   "source": [
    "import pandas as pd\n",
    "from sklearn.tree import DecisionTreeClassifier\n",
    "from sklearn.model_selection import train_test_split\n",
    "import pickle\n",
    "\n",
    "from sklearn import tree\n",
    "\n",
    "products = pd.read_csv('cosmetics.csv')\n",
    "df2=products.query(\"Label == 'Treatment'\")\n",
    "X = df2.drop(columns=['Ingredients', 'Label', 'Brand', 'Name'])\n",
    "y = df2['Name']\n",
    "X_train, y_test, y_train, y_test = train_test_split(X, y, test_size=0.2)\n",
    "\n",
    "mode2l = DecisionTreeClassifier()\n",
    "mode2l.fit(X, y)\n",
    "predictions = mode2l.predict([ [175, 4.1, 1, 1, 1, 1, 1] ])\n",
    "filename = \"pridection.joblib\"\n",
    "pickle.dump(mode2l, open(filename, 'wb'))\n",
    "print(predictions)\n",
    "\n",
    "#price, rank, combi, dry, normal, oily, sensitive\n",
    "# joblib.dump(model, 'skin-recommender.joblib')\n",
    "\n"
   ]
  },
  {
   "cell_type": "code",
   "execution_count": null,
   "id": "0f5ce0ee",
   "metadata": {},
   "outputs": [],
   "source": []
  },
  {
   "cell_type": "code",
   "execution_count": null,
   "id": "ddf06751",
   "metadata": {},
   "outputs": [],
   "source": []
  },
  {
   "cell_type": "code",
   "execution_count": null,
   "id": "30a850a6",
   "metadata": {},
   "outputs": [],
   "source": []
  },
  {
   "cell_type": "code",
   "execution_count": null,
   "id": "3a2bbd8c",
   "metadata": {},
   "outputs": [],
   "source": []
  },
  {
   "cell_type": "code",
   "execution_count": null,
   "id": "2d78d364",
   "metadata": {},
   "outputs": [],
   "source": []
  }
 ],
 "metadata": {
  "kernelspec": {
   "display_name": "Python 3 (ipykernel)",
   "language": "python",
   "name": "python3"
  },
  "language_info": {
   "codemirror_mode": {
    "name": "ipython",
    "version": 3
   },
   "file_extension": ".py",
   "mimetype": "text/x-python",
   "name": "python",
   "nbconvert_exporter": "python",
   "pygments_lexer": "ipython3",
   "version": "3.9.13"
  }
 },
 "nbformat": 4,
 "nbformat_minor": 5
}
